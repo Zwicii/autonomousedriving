{
 "cells": [
  {
   "cell_type": "markdown",
   "id": "prostate-sunglasses",
   "metadata": {
    "pycharm": {
     "name": "#%% md\n"
    }
   },
   "source": [
    "# Stanley Controller following a straight line"
   ]
  },
  {
   "cell_type": "markdown",
   "id": "given-consultancy",
   "metadata": {
    "pycharm": {
     "name": "#%% md\n"
    }
   },
   "source": [
    "We need the follwing packages to be installed: `numpy` and `matplotlib` and `scipy`.\n",
    "Additionally we need the follwing python files (should be placed in the same folder): `Model_Vehicle.py` and `Trajectory_LaneChange.py`<br>\n",
    "\n",
    "Literature explaing the controller can be found e.g. at:<br>\n",
    "G. M. Hoffmann, C. J. Tomlin, M. Montemerlo, and S. Thrun, “Autonomous Automobile Trajectory Tracking for Off-Road Driving : Controller Design , Experimental Validation and Racing †,” pp. 2296–2301, 2007\n",
    "http://ai.stanford.edu/~gabeh/papers/hoffmann_stanley_control07.pdf"
   ]
  },
  {
   "cell_type": "code",
   "execution_count": 1,
   "id": "thick-technique",
   "metadata": {
    "ExecuteTime": {
     "end_time": "2022-11-17T21:36:08.018957Z",
     "start_time": "2022-11-17T21:36:07.491254Z"
    },
    "pycharm": {
     "name": "#%%\n"
    }
   },
   "outputs": [],
   "source": [
    "from numpy import cos, sin, tan, arcsin, arctan2, pi\n",
    "\n",
    "import scipy.integrate as sci\n",
    "\n",
    "from Model_Vehicle import *\n",
    "from Trajectory_LaneChange import referenceTrajectory\n",
    "#from Trajectory_Straight import referenceTrajectory"
   ]
  },
  {
   "cell_type": "markdown",
   "id": "previous-modification",
   "metadata": {
    "pycharm": {
     "name": "#%% md\n"
    }
   },
   "source": [
    "We bundle all parameters within a seperate class `Parameters` to access them.\n",
    "Two instances distinguish physical from simulation parameters.\n",
    "These parameters are used to specify the vehicle and experiment setup."
   ]
  },
  {
   "cell_type": "code",
   "execution_count": 2,
   "id": "logical-license",
   "metadata": {
    "ExecuteTime": {
     "end_time": "2022-11-17T21:36:08.045583Z",
     "start_time": "2022-11-17T21:36:08.041416Z"
    },
    "pycharm": {
     "name": "#%%\n"
    }
   },
   "outputs": [],
   "source": [
    "class Parameters(object):\n",
    "    pass\n",
    "\n",
    "# Physical parameter\n",
    "para     = Parameters()  # instance of class Parameters\n",
    "para.l   = 2.850         # define car length [m]\n",
    "para.w   = para.l * 0.3  # define car width [m]\n",
    "para.ref_l = para.l      # define dist to reference point in vehicle (from rear)\n",
    "para.k   = 10            # K\n",
    "para.ksoft = 1           \n",
    "para.dt  = 0.04          # controller step size [s]\n",
    "para.maxDelta = 25 * pi / 180 # [rad]\n",
    "\n",
    "# Simulation parameter\n",
    "sim_para = Parameters()  # instance of class Parameters\n",
    "sim_para.t0 = 0          # start time\n",
    "sim_para.tf = 2          # final time\n",
    "sim_para.dt = para.dt    # step-size"
   ]
  },
  {
   "cell_type": "markdown",
   "id": "confident-newspaper",
   "metadata": {
    "pycharm": {
     "name": "#%% md\n"
    }
   },
   "source": [
    "In the next cell the controller is defined in `control` as well as the control error calculation that is controller specific and defined in `controlErrorEGOFront`."
   ]
  },
  {
   "cell_type": "code",
   "execution_count": 3,
   "id": "assigned-basement",
   "metadata": {
    "ExecuteTime": {
     "end_time": "2022-11-17T21:36:08.394061Z",
     "start_time": "2022-11-17T21:36:08.387724Z"
    },
    "pycharm": {
     "name": "#%%\n"
    }
   },
   "outputs": [],
   "source": [
    "##################################################################################\n",
    "def control(e, xc, p, t):\n",
    "    \"\"\"Function of the control law\n",
    "    Args:\n",
    "        e:  control error (controller specific)\n",
    "        xc: state vector controller from last step (only applies for controller with internal states)\n",
    "        t:  time (to enable time dependent control laws like fade in/out etc.)\n",
    "    Returns:\n",
    "        u:  control vector\n",
    "        xc: updated state vector controller (save internal state for next call)\n",
    "    \"\"\"\n",
    "    e_fa, theta_e = e                          # extract two parts of the control error\n",
    "\n",
    "    vx = p.vx                                  # get the vehicle velocity (const parameter)\n",
    "    u1 = vx\n",
    "\n",
    "    u2=0        # ADD here the control \n",
    "    u2 = np.minimum(np.maximum(u2, -p.maxDelta), p.maxDelta)   # saturation of steering angle\n",
    "\n",
    "    return np.array([u1, u2]).T, xc  \n",
    "\n",
    "##################################################################################\n",
    "def controlErrorEGOFront(x, r, t, p):\n",
    "\n",
    "    x, y, theta = x  # state vector\n",
    "\n",
    "    i = np.int(t/p.dt+0.1)\n",
    "\n",
    "    e_fa = r[i,1] -(y + p.l * sin(theta))  # front wheel position\n",
    "                                    # negative if vehicle is left of traj\n",
    "    theta_e = r[i,2] - theta  # orientation error (reference orientation const.0)\n",
    "\n",
    "    return np.array([e_fa, theta_e]).T"
   ]
  },
  {
   "cell_type": "markdown",
   "id": "cardiac-monitor",
   "metadata": {
    "pycharm": {
     "name": "#%% md\n"
    }
   },
   "source": [
    "Next the controller and the vehicle are simulated in closed loop.\n",
    "Initial states (position) can be changed to investigate the reaction\n",
    "to offsets."
   ]
  },
  {
   "cell_type": "code",
   "execution_count": 4,
   "id": "alpha-worth",
   "metadata": {
    "ExecuteTime": {
     "end_time": "2022-11-17T21:36:08.749481Z",
     "start_time": "2022-11-17T21:36:08.746080Z"
    },
    "pycharm": {
     "name": "#%%\n"
    }
   },
   "outputs": [],
   "source": [
    "# initial state ##################################################################\n",
    "sim_para.x0 = [0, 5, 0]\n",
    "sim_para.xc0 = [0,0] # controller states\n",
    "para.vx = 70 / 3.6  # vehicle speed"
   ]
  },
  {
   "cell_type": "markdown",
   "id": "chicken-hamburg",
   "metadata": {
    "pycharm": {
     "name": "#%% md\n"
    }
   },
   "source": [
    "The reference trajectory is provided within a predifined subfunction `referenceTrajectory`"
   ]
  },
  {
   "cell_type": "code",
   "execution_count": 5,
   "id": "commercial-juice",
   "metadata": {
    "ExecuteTime": {
     "end_time": "2022-11-17T21:36:09.128968Z",
     "start_time": "2022-11-17T21:36:09.125362Z"
    },
    "pycharm": {
     "name": "#%%\n"
    }
   },
   "outputs": [],
   "source": [
    "# reference ######################################################################\n",
    "r_traj = referenceTrajectory(para, sim_para)"
   ]
  },
  {
   "cell_type": "markdown",
   "id": "integral-annex",
   "metadata": {
    "pycharm": {
     "name": "#%% md\n"
    }
   },
   "source": [
    "Simulation is executed and resulting states are saved."
   ]
  },
  {
   "cell_type": "code",
   "execution_count": 6,
   "id": "premier-polish",
   "metadata": {
    "ExecuteTime": {
     "end_time": "2022-11-17T21:36:10.892381Z",
     "start_time": "2022-11-17T21:36:10.858115Z"
    },
    "pycharm": {
     "name": "#%%\n"
    }
   },
   "outputs": [
    {
     "data": {
      "text/plain": "<Figure size 472.441x629.921 with 4 Axes>",
      "image/png": "[encoded data removed]"
     },
     "metadata": {},
     "output_type": "display_data"
    },
    {
     "data": {
      "text/plain": "<Figure size 640x480 with 1 Axes>",
      "image/png": "[encoded data removed]"
     },
     "metadata": {},
     "output_type": "display_data"
    },
    {
     "ename": "ImportError",
     "evalue": "cannot import name 'controlStanley' from 'CarControl_Stanley2' (/Users/crocodileandi/Library/Mobile Documents/com~apple~CloudDocs/FH/Master/3.Semester/AutonomousDriving/Exercise/autonomousedriving/CarControl_Stanley2.py)",
     "output_type": "error",
     "traceback": [
      "\u001B[0;31m---------------------------------------------------------------------------\u001B[0m",
      "\u001B[0;31mImportError\u001B[0m                               Traceback (most recent call last)",
      "Cell \u001B[0;32mIn[6], line 1\u001B[0m\n\u001B[0;32m----> 1\u001B[0m \u001B[38;5;28;01mfrom\u001B[39;00m \u001B[38;5;21;01mCarControl_Stanley2\u001B[39;00m \u001B[38;5;28;01mimport\u001B[39;00m controlStanley\n\u001B[1;32m      3\u001B[0m \u001B[38;5;66;03m# simulation #####################################################################\u001B[39;00m\n\u001B[1;32m      4\u001B[0m tt \u001B[38;5;241m=\u001B[39m np\u001B[38;5;241m.\u001B[39marange(sim_para\u001B[38;5;241m.\u001B[39mt0, sim_para\u001B[38;5;241m.\u001B[39mtf \u001B[38;5;241m+\u001B[39m sim_para\u001B[38;5;241m.\u001B[39mdt, sim_para\u001B[38;5;241m.\u001B[39mdt)  \u001B[38;5;66;03m# time vector\u001B[39;00m\n",
      "\u001B[0;31mImportError\u001B[0m: cannot import name 'controlStanley' from 'CarControl_Stanley2' (/Users/crocodileandi/Library/Mobile Documents/com~apple~CloudDocs/FH/Master/3.Semester/AutonomousDriving/Exercise/autonomousedriving/CarControl_Stanley2.py)"
     ]
    }
   ],
   "source": [
    "from CarControl_Stanley2 import controlStanley\n",
    "\n",
    "# simulation #####################################################################\n",
    "tt = np.arange(sim_para.t0, sim_para.tf + sim_para.dt, sim_para.dt)  # time vector\n",
    "\n",
    "x_traj = np.zeros([len(tt), len(sim_para.x0)])  # init state trace\n",
    "x_traj[0, :] = sim_para.x0  # set initial state\n",
    "u_traj = np.zeros([len(tt), 2])\n",
    "xc = [0, 0]  # controller states\n",
    "e_traj = np.zeros([len(tt), 2])  # init state trace\n",
    "xc = sim_para.xc0\n",
    "\n",
    "for t_i in np.arange(len(tt) - 1):  # loop over time instances\n",
    "\n",
    "    # error model\n",
    "    e_traj[t_i] = controlErrorEGOFront(x_traj[t_i], r_traj, tt[t_i], para)\n",
    "    # control law\n",
    "    para.u, xc = controlStanley(e_traj[t_i], xc, para, tt[t_i])  # get control\n",
    "    u_traj[t_i] = para.u\n",
    "    # vehicle motion\n",
    "    sol = sci.solve_ivp(lambda t, x: ode(x, t, para),\n",
    "                        (tt[t_i], tt[t_i + 1]), x_traj[t_i, :],\n",
    "                        method='RK45', t_eval=tt[t_i + 1:t_i + 2])\n",
    "    x_traj[t_i + 1, :] = sol.y.T  # size = len(x) x len(tt) (.T -> transpose)"
   ]
  },
  {
   "cell_type": "markdown",
   "id": "complex-policy",
   "metadata": {
    "pycharm": {
     "name": "#%% md\n"
    }
   },
   "source": [
    "Plots are generated"
   ]
  },
  {
   "cell_type": "code",
   "execution_count": null,
   "id": "valued-stroke",
   "metadata": {
    "ExecuteTime": {
     "end_time": "2022-11-17T21:36:21.266321Z",
     "start_time": "2022-11-17T21:36:20.533473Z"
    },
    "pycharm": {
     "name": "#%%\n"
    }
   },
   "outputs": [],
   "source": [
    "# plot ###########################################################################\n",
    "plt.rcParams['figure.dpi'] = 100 \n",
    "plot_data(x_traj, u_traj, r_traj, tt, 12, 16, 'state_trajectory_Stanley_Straight', save=False)"
   ]
  },
  {
   "cell_type": "markdown",
   "id": "developed-coalition",
   "metadata": {
    "pycharm": {
     "name": "#%% md\n"
    }
   },
   "source": [
    "Finally the motion is plotted in a 2D birds-eye view for later analysis."
   ]
  },
  {
   "cell_type": "code",
   "execution_count": null,
   "id": "weekly-headline",
   "metadata": {
    "ExecuteTime": {
     "end_time": "2022-11-17T21:36:53.495560Z",
     "start_time": "2022-11-17T21:36:47.665307Z"
    },
    "pycharm": {
     "name": "#%%\n"
    }
   },
   "outputs": [],
   "source": [
    "# animation ######################################################################\n",
    "plt.rcParams['figure.dpi'] = 200 \n",
    "ani = car_animation(x_traj, u_traj, r_traj, tt, para, x_traj, 'state_trajectory_Stanley_Straight')\n",
    "plt.close()\n",
    "ani"
   ]
  },
  {
   "cell_type": "code",
   "execution_count": null,
   "id": "irish-judges",
   "metadata": {
    "ExecuteTime": {
     "end_time": "2022-11-17T21:36:30.430211Z",
     "start_time": "2022-11-17T21:36:28.503934Z"
    },
    "pycharm": {
     "name": "#%%\n"
    }
   },
   "outputs": [],
   "source": [
    "plt.rcParams['animation.ffmpeg_path'] = 'ffmpeg'\n",
    "#plt.rcParams['animation.ffmpeg_path'] = '/usr/bin/ffmpeg'\n",
    "ani.save('CarControl_Stanley_Straight.mp4')"
   ]
  },
  {
   "cell_type": "code",
   "execution_count": null,
   "outputs": [],
   "source": [],
   "metadata": {
    "collapsed": false,
    "pycharm": {
     "name": "#%%\n"
    }
   }
  }
 ],
 "metadata": {
  "hide_input": false,
  "kernelspec": {
   "display_name": "Python 3 (ipykernel)",
   "language": "python",
   "name": "python3"
  },
  "language_info": {
   "codemirror_mode": {
    "name": "ipython",
    "version": 3
   },
   "file_extension": ".py",
   "mimetype": "text/x-python",
   "name": "python",
   "nbconvert_exporter": "python",
   "pygments_lexer": "ipython3",
   "version": "3.10.6"
  },
  "latex_envs": {
   "LaTeX_envs_menu_present": true,
   "autoclose": false,
   "autocomplete": true,
   "bibliofile": "biblio.bib",
   "cite_by": "apalike",
   "current_citInitial": 1,
   "eqLabelWithNumbers": true,
   "eqNumInitial": 1,
   "hotkeys": {
    "equation": "Ctrl-E",
    "itemize": "Ctrl-I"
   },
   "labels_anchors": false,
   "latex_user_defs": false,
   "report_style_numbering": false,
   "user_envs_cfg": false
  },
  "toc": {
   "base_numbering": 1,
   "nav_menu": {},
   "number_sections": true,
   "sideBar": true,
   "skip_h1_title": false,
   "title_cell": "Table of Contents",
   "title_sidebar": "Contents",
   "toc_cell": false,
   "toc_position": {},
   "toc_section_display": true,
   "toc_window_display": false
  },
  "varInspector": {
   "cols": {
    "lenName": 16,
    "lenType": 16,
    "lenVar": 40
   },
   "kernels_config": {
    "python": {
     "delete_cmd_postfix": "",
     "delete_cmd_prefix": "del ",
     "library": "var_list.py",
     "varRefreshCmd": "print(var_dic_list())"
    },
    "r": {
     "delete_cmd_postfix": ") ",
     "delete_cmd_prefix": "rm(",
     "library": "var_list.r",
     "varRefreshCmd": "cat(var_dic_list()) "
    }
   },
   "types_to_exclude": [
    "module",
    "function",
    "builtin_function_or_method",
    "instance",
    "_Feature"
   ],
   "window_display": false
  }
 },
 "nbformat": 4,
 "nbformat_minor": 5
}
